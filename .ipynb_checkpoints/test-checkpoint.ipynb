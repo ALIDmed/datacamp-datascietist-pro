{
 "cells": [
  {
   "cell_type": "code",
   "execution_count": 71,
   "metadata": {},
   "outputs": [],
   "source": [
    "from faker import Faker\n",
    "import pandas as pd\n",
    "import numpy as np\n",
    "import random"
   ]
  },
  {
   "cell_type": "code",
   "execution_count": 72,
   "metadata": {},
   "outputs": [],
   "source": [
    "data = {\n",
    "    'tracking': [],\n",
    "    'name': [],\n",
    "    'phone_number': [],\n",
    "    'origin_country': [],\n",
    "    'destination_country': [],\n",
    "    'destination_city': [],\n",
    "    'transport_mode': [],\n",
    "    'cargo_width': [],\n",
    "    'cargo_height': [],\n",
    "    'cargo_length': [],\n",
    "    'payment': [],\n",
    "    'cargo_ref': [],\n",
    "    'seal_number': [],\n",
    "    'cost': [],\n",
    "    'status': [],\n",
    "    'ref': [],\n",
    "}"
   ]
  },
  {
   "cell_type": "code",
   "execution_count": 73,
   "metadata": {},
   "outputs": [],
   "source": [
    "moroccan_names = [\n",
    "    \"Abad\", \"Abdennasser\", \"Amghar\", \"Abbas\", \"Abdelmoula\", \"Amimar\", \"Abbou\", \"Allal\", \"Amine\", \"Abdelaalim\", \"Abdennour\", \"Amjad\",\n",
    "    \"Abdelaati\", \"Abderaouf\", \"Ammar\", \"Abdeladim\", \"Abderrafie\", \"Amrane\", \"Abdelali\", \"Abderrazak\", \"Anis\", \"Abdelaziz\", \"Abdessabour\", \"Anouar\",\n",
    "    \"Abdelbadie\", \"Abdessadek\", \"Antar\", \"Abdelbaki\", \"Abdessafi\", \"Antara\", \"Abdelbasset\", \"Abdessalam\", \"Aouab\", \"Abdelfattah\", \"Abdessamad\", \"Aouiss\",\n",
    "    \"Abdelghafour\", \"Abdessamie\", \"Arbi\", \"Abdelghani\", \"Abdessatar\", \"Archane\", \"Abdelhadi\", \"Abdou\", \"Aref\", \"Abdelhafid\", \"Abdourabih\", \"Arif\",\n",
    "    \"Abdelhak\", \"Abdrabbou\", \"Arij\", \"Abdelhakim\", \"Abed\", \"Arkam\", \"Abdelhalim\", \"Abid\", \"Arsalane\", \"Abdelhamid\", \"Aboubaki\", \"Assad\",\n",
    "    \"Abdelhaq\", \"Aboubakr\", \"Assil\", \"Abdelilah\", \"Aboud\", \"Assou\", \"Abdeljabbar\", \"Achour\", \"Atef\", \"Abdeljalil\", \"Achraf\", \"Atf\",\n",
    "    \"Abdeljaouad\", \"Adam\", \"Atik\", \"Abdelkabir\", \"Addi\", \"Atiq\", \"Abdelkader\", \"Adel\", \"Atouf\", \"Abdelkamel\", \"Adham\", \"Ayache\",\n",
    "    \"Abdelkarim\", \"Adib\", \"Ayachi\", \"Abdelkhalek\", \"Adil\", \"Ayad\", \"Abdelkouddous\", \"Adnane\", \"Ayich\", \"Abdellah\", \"Afif\", \"Ayman\",\n",
    "    \"Abdellatif\", \"Ahmed\", \"Ayoub\", \"Abdelmalek\", \"Aissa\", \"Azam\", \"Abdelmoghit\", \"Akram\", \"Azhar\", \"Abdelmonaim\", \"Alaeeddine\", \"Azmi\",\n",
    "    \"Abdelmouaiz\", \"Alami\", \"Azzam\", \"Abdelmoughit\", \"Ali\", \"Azzeddine\", \"Abdelmouhaimin\", \"Aliane\", \"Azzelarab\", \"Abdelmoujib\", \"Alif\", \"Azzouz\",\n",
    "    \"Abdelmoumen\", \"Alilou\", \"Abdelmouttalib\", \"Allali\", \"Abdelouadoud\", \"Allou\", \"Abdelouafi\", \"Allouch\", \"Abdelouahab\", \"Amar\", \"Abdelouahid\", \"Amara\",\n",
    "    \"Abdelouali\", \"Amer\", \"Abdelouarete\", \"Ameur\", \"Abdenbi\", \"Ameziane\", \"Baaka\", \"Bachar\", \"Baaqa\", \"Baba\", \"Badr\", \"Badr Ezzamane\", \"Badr Eddine\", \"Badri\",\n",
    "    \"Bahae\", \"Bahi\", \"Bahssin\", \"Bachir\", \"Bakkar\", \"Bakr\", \"Bamou\", \"Barouk\", \"Belkassem\", \"Benissa\", \"Bassam\", \"Bassou\",\n",
    "    \"Belaid\", \"Belkas\", \"Benaissa\", \"Benasser\", \"Bendaoud\", \"Bennacer\", \"Benyaakoub\", \"Bichara\", \"Bichr\", \"Bikr\", \"Bilal\", \"Bouamama\", \"Bouamar\", \"Bouamrou\", \"Bouazza\", \"Bouchaib\",\n",
    "    \"Bouekri\", \"Bouchta\", \"Bouhout\", \"Boujemaa\", \"Bourhim\", \"Bourhime\", \"Bousedra\", \"Bouselham\", \"Bouziane\", \"Brahim\", \"Brik\",\n",
    "    \"Chaabane\", \"Chaddad\", \"Chadi\", \"Chadli\", \"Chafai\", \"Chafik\", \"Chafiq\", \"Chahed\", \"Chahid\", \"Chaib\", \"Chakib\", \"Chakir\", \"Chaouki\", \"Charaf\", \"Charaf Eddine\", \"Charki\", \"Chedad\", \"Cherqi\", \"Chihab\", \"Choaib\", \"Chouaib\", \"Choukri\",\n",
    "    \"Chaden\", \"Chadia\", \"Chadlia\", \"Chafia\", \"Chafika\", \"Chahbae\", \"Chahida\", \"Chahrazad\", \"Chaimae\", \"Chakira\", \"Chama\", \"Chams\", \"Chams Eddouha\", \"Charifa\", \"Charkia\", \"Chefae\", \"Chehabe\", \"Chihab\", \"Chmicha\", \"Chokria\", \"Chomeysa\", \"Chouhaiba\", \"Choukria\", \"Choumaissa\", \"Chourouk\",\n",
    "    \"Dahane\", \"Dahbi\", \"Dah Mane\", \"Daidai\", \"Dalil\", \"Daoud\", \"Daoui\", \"Darid\", \"Darous\", \"Diab\", \"Diae\", \"Diae Eddine\", \"Didi\", \"Douraid\", \"Driss\",\n",
    "    \"Eddaoui\", \"Elaid\", \"Elarabi\", \"Elarbi\", \"Elaydi\", \"Elbachir\", \"Elbouchtaoui\", \"Elchafii\", \"Elchahid\", \"Ebdelkahar\", \"Ebdelkayyaoum\", \"Ebdelkahar\", \"Elfatmi\", \"Elghali\", \"Elghaouti\", \"Elghazouani\", \"Elhabib\", \"Elmokhtar\", \"Elhachemi\", \"Elhassan\", \"Elhouari\", \"Elkebir\", \"Elkhadioui\", \"Elkhadir\", \"Elkhamar\", \"Elmadani\", \"Essghir\", \"Elmostafa\", \"Elmouloud\"]"
   ]
  },
  {
   "cell_type": "code",
   "execution_count": 74,
   "metadata": {},
   "outputs": [],
   "source": [
    "Faker.seed(0)\n",
    "fake = Faker()"
   ]
  },
  {
   "cell_type": "code",
   "execution_count": 75,
   "metadata": {},
   "outputs": [],
   "source": [
    "import uuid\n",
    "def tracking():\n",
    "    return str(uuid.uuid4())"
   ]
  },
  {
   "cell_type": "code",
   "execution_count": 76,
   "metadata": {},
   "outputs": [],
   "source": [
    "def generate_random_moroccan_name():\n",
    "    name1 = random.choice(moroccan_names)\n",
    "    name2 = random.choice(moroccan_names)\n",
    "    combined_name = name1 + \" \" + name2\n",
    "    return combined_name"
   ]
  },
  {
   "cell_type": "code",
   "execution_count": 77,
   "metadata": {},
   "outputs": [],
   "source": [
    "def phone_number():\n",
    "    # Create a random 9-digit phone number\n",
    "    phone_number = \"+2125\"\n",
    "    for _ in range(8):\n",
    "        phone_number += str(random.randint(0, 9))\n",
    "    \n",
    "    return phone_number"
   ]
  },
  {
   "cell_type": "code",
   "execution_count": 78,
   "metadata": {},
   "outputs": [],
   "source": [
    "def email():\n",
    "    return fake.ascii_company_email()"
   ]
  },
  {
   "cell_type": "code",
   "execution_count": 79,
   "metadata": {},
   "outputs": [],
   "source": [
    "def origin_country():\n",
    "    return random.choice(['chine', 'usa', 'argentine', 'espagne', 'france', 'senegal'])\n",
    "\n",
    "def destination_city():\n",
    "    city = random.choice(['casablanca', 'rabat', 'jadida', 'asfi', 'tanger'])\n",
    "    return city\n",
    "def destination_country():\n",
    "    return 'maroc'"
   ]
  },
  {
   "cell_type": "code",
   "execution_count": 80,
   "metadata": {},
   "outputs": [],
   "source": [
    "def transport_mode():\n",
    "    return random.choice(['air', 'sea', 'land'])"
   ]
  },
  {
   "cell_type": "code",
   "execution_count": 81,
   "metadata": {},
   "outputs": [],
   "source": [
    "def cargo():\n",
    "    return [\n",
    "        random.choice([6, 6.5, 7, 5]), #length\n",
    "        random.choice([2.3, 2.4, 2.5]), #width\n",
    "        random.choice([2, 2.1, 2.3, 2.2]), #height\n",
    "    ]"
   ]
  },
  {
   "cell_type": "code",
   "execution_count": 82,
   "metadata": {},
   "outputs": [],
   "source": [
    "def payment():\n",
    "    random.choice(['payee', 'non-payee'])"
   ]
  },
  {
   "cell_type": "code",
   "execution_count": 89,
   "metadata": {},
   "outputs": [],
   "source": [
    "def cargo_ref():\n",
    "    return str(fake.aba()), str(fake.sbn9()) #seal number"
   ]
  },
  {
   "cell_type": "code",
   "execution_count": 84,
   "metadata": {},
   "outputs": [],
   "source": [
    "def cost():\n",
    "    return random.randint(10000, 300000)"
   ]
  },
  {
   "cell_type": "code",
   "execution_count": 85,
   "metadata": {},
   "outputs": [],
   "source": [
    "def status():\n",
    "    return random.choice(['reservee', 'transit', 'livre'])"
   ]
  },
  {
   "cell_type": "code",
   "execution_count": 86,
   "metadata": {},
   "outputs": [],
   "source": [
    "def ref():\n",
    "    return fake.license_plate()"
   ]
  },
  {
   "cell_type": "code",
   "execution_count": 91,
   "metadata": {},
   "outputs": [
    {
     "ename": "TypeError",
     "evalue": "'str' object is not callable",
     "output_type": "error",
     "traceback": [
      "\u001b[1;31m---------------------------------------------------------------------------\u001b[0m",
      "\u001b[1;31mTypeError\u001b[0m                                 Traceback (most recent call last)",
      "Cell \u001b[1;32mIn[91], line 13\u001b[0m\n\u001b[0;32m     11\u001b[0m data[\u001b[38;5;124m'\u001b[39m\u001b[38;5;124mcargo_height\u001b[39m\u001b[38;5;124m'\u001b[39m]\u001b[38;5;241m.\u001b[39mappend(cargo_height)\n\u001b[0;32m     12\u001b[0m data[\u001b[38;5;124m'\u001b[39m\u001b[38;5;124mcargo_length\u001b[39m\u001b[38;5;124m'\u001b[39m]\u001b[38;5;241m.\u001b[39mappend(cargo_length)\n\u001b[1;32m---> 13\u001b[0m cargo_ref, seal_number \u001b[38;5;241m=\u001b[39m \u001b[43mcargo_ref\u001b[49m\u001b[43m(\u001b[49m\u001b[43m)\u001b[49m\n\u001b[0;32m     14\u001b[0m data[\u001b[38;5;124m'\u001b[39m\u001b[38;5;124mcargo_ref\u001b[39m\u001b[38;5;124m'\u001b[39m]\u001b[38;5;241m.\u001b[39mappend(cargo_ref)\n\u001b[0;32m     15\u001b[0m data[\u001b[38;5;124m'\u001b[39m\u001b[38;5;124mseal_number\u001b[39m\u001b[38;5;124m'\u001b[39m]\u001b[38;5;241m.\u001b[39mappend(seal_number)\n",
      "\u001b[1;31mTypeError\u001b[0m: 'str' object is not callable"
     ]
    }
   ],
   "source": [
    "for _ in range(6900):\n",
    "    data['tracking'].append(tracking())\n",
    "    data['name'].append(generate_random_moroccan_name())\n",
    "    data['phone_number'].append(phone_number())\n",
    "    data['origin_country'].append(origin_country())\n",
    "    data['destination_country'].append('maroc')\n",
    "    data['destination_city'].append(destination_city())\n",
    "    data['transport_mode'].append(transport_mode())\n",
    "    cargo_length, cargo_width, cargo_height, = cargo()\n",
    "    data['cargo_width'].append(cargo_width)\n",
    "    data['cargo_height'].append(cargo_height)\n",
    "    data['cargo_length'].append(cargo_length)\n",
    "    cargo_refe, seal_number = cargo_ref()\n",
    "    data['cargo_ref'].append(cargo_refe)\n",
    "    data['seal_number'].append(seal_number)\n",
    "    data['payment'].append(payment())\n",
    "    data['cost'].append(cost())\n",
    "    data['status'].append(status())\n",
    "    data['ref'].append(ref())\n",
    "    "
   ]
  },
  {
   "cell_type": "code",
   "execution_count": null,
   "metadata": {},
   "outputs": [],
   "source": []
  }
 ],
 "metadata": {
  "kernelspec": {
   "display_name": "Python 3 (ipykernel)",
   "language": "python",
   "name": "python3"
  },
  "language_info": {
   "codemirror_mode": {
    "name": "ipython",
    "version": 3
   },
   "file_extension": ".py",
   "mimetype": "text/x-python",
   "name": "python",
   "nbconvert_exporter": "python",
   "pygments_lexer": "ipython3",
   "version": "3.10.10"
  }
 },
 "nbformat": 4,
 "nbformat_minor": 2
}
